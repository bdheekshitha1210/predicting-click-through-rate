{
 "cells": [
  {
   "cell_type": "code",
   "execution_count": 9,
   "metadata": {},
   "outputs": [],
   "source": [
    "#Import necessary libraries\n",
    "# To write a Python 2/3 compatible codebase, the first step is to add this line to the top of each module\n",
    "from __future__ import division, print_function, unicode_literals\n",
    "\n",
    "from keras.models import Sequential\n",
    "from keras.layers import Dense, Activation\n",
    "from keras import optimizers\n",
    "\n",
    "\n",
    "import numpy as np\n",
    "import pandas as pd\n",
    "import random as rn\n",
    "import tensorflow as tf\n",
    "np.random.seed(3456)\n",
    "rn.seed(3456)\n",
    "session_conf =tf.compat.v1.ConfigProto(intra_op_parallelism_threads=1,inter_op_parallelism_threads=1)\n",
    "\n",
    "from keras import backend as K\n",
    "tf.random.set_seed(3456)\n",
    "sess = tf.compat.v1.Session(graph=tf.compat.v1.get_default_graph(),config=session_conf)\n",
    "#K.set_session(sess)\n",
    "tf.compat.v1.keras.backend.set_session(sess)\n",
    "import warnings\n",
    "warnings.filterwarnings(\"ignore\")"
   ]
  },
  {
   "cell_type": "code",
   "execution_count": 10,
   "metadata": {},
   "outputs": [],
   "source": [
    "#settings for binary classifier NN\n",
    "NEpochs = 1000\n",
    "BatchSize=250\n",
    "Optimizer=optimizers.RMSprop(lr=0.01)"
   ]
  },
  {
   "cell_type": "code",
   "execution_count": 11,
   "metadata": {},
   "outputs": [
    {
     "data": {
      "text/plain": [
       "'C:\\\\Users\\\\banva\\\\Desktop\\\\ML Project\\\\Mayur Kumar'"
      ]
     },
     "execution_count": 11,
     "metadata": {},
     "output_type": "execute_result"
    }
   ],
   "source": [
    "#set the directory\n",
    "import os\n",
    "os.chdir(r\"C:\\Users\\banva\\Desktop\\ML Project\\Mayur Kumar\")\n",
    "os.getcwd()"
   ]
  },
  {
   "cell_type": "code",
   "execution_count": 13,
   "metadata": {},
   "outputs": [],
   "source": [
    "# Read in the data\n",
    "calibrationdata=  pd.read_csv('calibration_erik.csv',sep=',',header=0,quotechar='\"')\n",
    "validationdata=  pd.read_csv('validation_erik.csv',sep=',',header=0,quotechar='\"')"
   ]
  },
  {
   "cell_type": "code",
   "execution_count": 14,
   "metadata": {},
   "outputs": [],
   "source": [
    "cal_Target = calibrationdata.loc[:,[\"click\"]]\n",
    "val_Target = validationdata.loc[:,[\"click\"]]"
   ]
  },
  {
   "cell_type": "code",
   "execution_count": 17,
   "metadata": {},
   "outputs": [],
   "source": [
    "cal_Target.click=cal_Target.click.astype('category',copy=False)\n",
    "val_Target.click=val_Target.click.astype('category',copy=False)"
   ]
  },
  {
   "cell_type": "code",
   "execution_count": 21,
   "metadata": {},
   "outputs": [
    {
     "data": {
      "text/plain": [
       "click    category\n",
       "dtype: object"
      ]
     },
     "execution_count": 21,
     "metadata": {},
     "output_type": "execute_result"
    }
   ],
   "source": [
    "cal_Target.dtypes\n",
    "val_Target.dtypes"
   ]
  },
  {
   "cell_type": "code",
   "execution_count": 29,
   "metadata": {},
   "outputs": [
    {
     "data": {
      "text/plain": [
       "['hourratio',\n",
       " 'C1ratio',\n",
       " 'banner_posratio',\n",
       " 'site_idratio',\n",
       " 'site_domainratio',\n",
       " 'site_categoryratio',\n",
       " 'app_idratio',\n",
       " 'app_domainratio',\n",
       " 'app_categoryratio',\n",
       " 'device_idratio',\n",
       " 'device_ipratio',\n",
       " 'device_modelratio',\n",
       " 'device_typeratio',\n",
       " 'device_conn_typeratio',\n",
       " 'C14ratio',\n",
       " 'C15ratio',\n",
       " 'C16ratio',\n",
       " 'C17ratio',\n",
       " 'C18ratio',\n",
       " 'C19ratio',\n",
       " 'C20ratio',\n",
       " 'C21ratio',\n",
       " 'hrratio',\n",
       " 'dayratio',\n",
       " 'day_appratio',\n",
       " 'day_siteratio',\n",
       " 'day_ipratio',\n",
       " 'day_idratio']"
      ]
     },
     "execution_count": 29,
     "metadata": {},
     "output_type": "execute_result"
    }
   ],
   "source": [
    "vars=list(calibrationdata)[2:30]\n",
    "vars"
   ]
  },
  {
   "cell_type": "code",
   "execution_count": 30,
   "metadata": {},
   "outputs": [],
   "source": [
    "calibrationdata_x =calibrationdata.loc[:,vars]"
   ]
  },
  {
   "cell_type": "code",
   "execution_count": 35,
   "metadata": {},
   "outputs": [],
   "source": [
    "validationdata_x =validationdata.loc[:,vars]"
   ]
  },
  {
   "cell_type": "code",
   "execution_count": 40,
   "metadata": {},
   "outputs": [],
   "source": [
    "# loop to change each column to category type\n",
    "for col in vars:\n",
    "    validationdata_x[col] = validationdata_x[col].astype('float64',copy=False)"
   ]
  },
  {
   "cell_type": "code",
   "execution_count": 37,
   "metadata": {},
   "outputs": [
    {
     "data": {
      "text/plain": [
       "hourratio                float64\n",
       "C1ratio                  float64\n",
       "banner_posratio          float64\n",
       "site_idratio             float64\n",
       "site_domainratio         float64\n",
       "site_categoryratio       float64\n",
       "app_idratio              float64\n",
       "app_domainratio          float64\n",
       "app_categoryratio        float64\n",
       "device_idratio           float64\n",
       "device_ipratio           float64\n",
       "device_modelratio        float64\n",
       "device_typeratio         float64\n",
       "device_conn_typeratio    float64\n",
       "C14ratio                 float64\n",
       "C15ratio                 float64\n",
       "C16ratio                 float64\n",
       "C17ratio                 float64\n",
       "C18ratio                 float64\n",
       "C19ratio                 float64\n",
       "C20ratio                 float64\n",
       "C21ratio                 float64\n",
       "hrratio                  float64\n",
       "dayratio                 float64\n",
       "day_appratio             float64\n",
       "day_siteratio            float64\n",
       "day_ipratio              float64\n",
       "day_idratio              float64\n",
       "dtype: object"
      ]
     },
     "execution_count": 37,
     "metadata": {},
     "output_type": "execute_result"
    }
   ],
   "source": [
    "calibrationdata_x.dtypes"
   ]
  },
  {
   "cell_type": "code",
   "execution_count": 41,
   "metadata": {},
   "outputs": [
    {
     "data": {
      "text/plain": [
       "hourratio                float64\n",
       "C1ratio                  float64\n",
       "banner_posratio          float64\n",
       "site_idratio             float64\n",
       "site_domainratio         float64\n",
       "site_categoryratio       float64\n",
       "app_idratio              float64\n",
       "app_domainratio          float64\n",
       "app_categoryratio        float64\n",
       "device_idratio           float64\n",
       "device_ipratio           float64\n",
       "device_modelratio        float64\n",
       "device_typeratio         float64\n",
       "device_conn_typeratio    float64\n",
       "C14ratio                 float64\n",
       "C15ratio                 float64\n",
       "C16ratio                 float64\n",
       "C17ratio                 float64\n",
       "C18ratio                 float64\n",
       "C19ratio                 float64\n",
       "C20ratio                 float64\n",
       "C21ratio                 float64\n",
       "hrratio                  float64\n",
       "dayratio                 float64\n",
       "day_appratio             float64\n",
       "day_siteratio            float64\n",
       "day_ipratio              float64\n",
       "day_idratio              float64\n",
       "dtype: object"
      ]
     },
     "execution_count": 41,
     "metadata": {},
     "output_type": "execute_result"
    }
   ],
   "source": [
    "validationdata_x.dtypes"
   ]
  },
  {
   "cell_type": "code",
   "execution_count": 42,
   "metadata": {},
   "outputs": [],
   "source": [
    "XTr= np.array(calibrationdata_x)\n",
    "XVal=np.array(validationdata_x)\n",
    "BCNN.add(Dense(units=4,activation=\"relu\",use_bias=True))"
   ]
  },
  {
   "cell_type": "code",
   "execution_count": 43,
   "metadata": {},
   "outputs": [],
   "source": [
    "YTr= np.array(cal_Target) \n",
    "YVal=np.array(val_Target)"
   ]
  },
  {
   "cell_type": "code",
   "execution_count": 45,
   "metadata": {},
   "outputs": [],
   "source": [
    "BCNN = Sequential()\n",
    "\n",
    "BCNN.add(Dense(units=4,input_shape=(XTr.shape[1],),activation=\"relu\",use_bias=True))\n",
    "BCNN.add(Dense(units=4,activation=\"relu\",use_bias=True))\n",
    "BCNN.add(Dense(units=4,activation=\"relu\",use_bias=True))\n",
    "BCNN.add(Dense(units=4,activation=\"relu\",use_bias=True))\n",
    "BCNN.add(Dense(units=1,activation=\"sigmoid\",use_bias=True))\n",
    "\n",
    "BCNN.compile(loss='binary_crossentropy', optimizer=Optimizer,metrics=['binary_crossentropy'])\n"
   ]
  },
  {
   "cell_type": "code",
   "execution_count": 46,
   "metadata": {},
   "outputs": [
    {
     "name": "stdout",
     "output_type": "stream",
     "text": [
      "Number of Epochs = 1000\n"
     ]
    },
    {
     "data": {
      "text/plain": [
       "[0.38623658,\n",
       " 0.3862248,\n",
       " 0.3862473,\n",
       " 0.3862246,\n",
       " 0.38630572,\n",
       " 0.3862435,\n",
       " 0.38628766,\n",
       " 0.38623723,\n",
       " 0.38626152]"
      ]
     },
     "execution_count": 46,
     "metadata": {},
     "output_type": "execute_result"
    }
   ],
   "source": [
    "#%% Fit NN Model,p\n",
    "FitHist = BCNN.fit(XTr,YTreoschs=NEpochs,batch_size=BatchSize,verbose=0'])\n",
    "print(\"Number of Epochs = \"+tr(len(FitHist.history['binary_crossentropy)))\n",
    "FitHist.history['binary_crossentropy'][-1]\n",
    "FitHist.history['binay_crossentropy'][-10:-1]"
   ]
  },
  {
   "cell_type": "code",
   "execution_count": 48,
   "metadata": {},
   "outputs": [],
   "source": [
    "#%% Make Predictionsoo\n",
    "YHatTr = BCNN.predict(XTr,batch_size=XTr.shape[0]) # NteNot scaled, s ont nceessary to undo.\n",
    "YHatTr = YHatTr.reshape((YHatTr.shape[0]),)\n",
    "\n",
    "YHatVal = BCNN.predict(XVal,batch_size=XVal.shape[0])\n",
    "YHatVal = YHatVal.reshape((YHatVal.shape[0]),) "
   ]
  },
  {
   "cell_type": "code",
   "execution_count": 53,
   "metadata": {},
   "outputs": [],
   "source": [
    "TrOutDF = pd.DataFrame(data={ 'YHatTr': YHatTr, 'YTr':YTr}})\n",
    "\n",
    "ValOutDF = pd.DataFrame(data={ 'YHatVal': YHatVal , 'YVal':YVal })\n",
    "\n",
    "TrOutDF.to_csv('TrYHatFromBCNN.csv',sep=',',na_rep=\"NA\",header=True,index=False)\n",
    "ValOutDF.to_csv('ValYHatFromBCNN.csv',sep=',',na_rep=\"NA\",header=True,index=False)"
   ]
  },
  {
   "cell_type": "code",
   "execution_count": null,
   "metadata": {},
   "outputs": [],
   "source": []
  },
  {
   "cell_type": "code",
   "execution_count": null,
   "metadata": {},
   "outputs": [],
   "source": []
  },
  {
   "cell_type": "code",
   "execution_count": null,
   "metadata": {},
   "outputs": [],
   "source": []
  },
  {
   "cell_type": "code",
   "execution_count": null,
   "metadata": {},
   "outputs": [],
   "source": []
  },
  {
   "cell_type": "code",
   "execution_count": null,
   "metadata": {},
   "outputs": [],
   "source": []
  },
  {
   "cell_type": "code",
   "execution_count": null,
   "metadata": {},
   "outputs": [],
   "source": []
  },
  {
   "cell_type": "code",
   "execution_count": null,
   "metadata": {},
   "outputs": [],
   "source": []
  },
  {
   "cell_type": "code",
   "execution_count": null,
   "metadata": {},
   "outputs": [],
   "source": []
  },
  {
   "cell_type": "code",
   "execution_count": null,
   "metadata": {},
   "outputs": [],
   "source": []
  },
  {
   "cell_type": "code",
   "execution_count": null,
   "metadata": {},
   "outputs": [],
   "source": []
  },
  {
   "cell_type": "code",
   "execution_count": null,
   "metadata": {},
   "outputs": [],
   "source": []
  },
  {
   "cell_type": "code",
   "execution_count": null,
   "metadata": {},
   "outputs": [],
   "source": []
  },
  {
   "cell_type": "code",
   "execution_count": null,
   "metadata": {},
   "outputs": [],
   "source": []
  }
 ],
 "metadata": {
  "kernelspec": {
   "display_name": "Python 3",
   "language": "python",
   "name": "python3"
  },
  "language_info": {
   "codemirror_mode": {
    "name": "ipython",
    "version": 3
   },
   "file_extension": ".py",
   "mimetype": "text/x-python",
   "name": "python",
   "nbconvert_exporter": "python",
   "pygments_lexer": "ipython3",
   "version": "3.7.3"
  }
 },
 "nbformat": 4,
 "nbformat_minor": 2
}
