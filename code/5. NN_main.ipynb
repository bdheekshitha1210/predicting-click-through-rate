{
 "cells": [
  {
   "cell_type": "code",
   "execution_count": 215,
   "metadata": {},
   "outputs": [],
   "source": [
    "#Import necessary libraries\n",
    "# To write a Python 2/3 compatible codebase, the first step is to add this line to the top of each module\n",
    "from __future__ import division, print_function, unicode_literals\n",
    "\n",
    "from keras.models import Sequential\n",
    "from keras.layers import Dense, Activation\n",
    "from keras import optimizers\n",
    "\n",
    "\n",
    "import numpy as np\n",
    "import pandas as pd\n",
    "import random as rn\n",
    "import tensorflow as tf\n",
    "np.random.seed(3456)\n",
    "rn.seed(3456)\n",
    "session_conf =tf.compat.v1.ConfigProto(intra_op_parallelism_threads=1,inter_op_parallelism_threads=1)\n",
    "\n",
    "from keras import backend as K\n",
    "tf.random.set_seed(3456)\n",
    "sess = tf.compat.v1.Session(graph=tf.compat.v1.get_default_graph(),config=session_conf)\n",
    "#K.set_session(sess)\n",
    "tf.compat.v1.keras.backend.set_session(sess)\n",
    "import warnings\n",
    "warnings.filterwarnings(\"ignore\")"
   ]
  },
  {
   "cell_type": "code",
   "execution_count": 216,
   "metadata": {},
   "outputs": [],
   "source": [
    "#settings for binary classifier NN\n",
    "NEpochs = 1000\n",
    "BatchSize=250\n",
    "Optimizer=optimizers.RMSprop(lr=0.01)"
   ]
  },
  {
   "cell_type": "code",
   "execution_count": 217,
   "metadata": {},
   "outputs": [
    {
     "data": {
      "text/plain": [
       "'C:\\\\Users\\\\banva\\\\Desktop\\\\ML Project\\\\Mayur Kumar'"
      ]
     },
     "execution_count": 217,
     "metadata": {},
     "output_type": "execute_result"
    }
   ],
   "source": [
    "#set the directory\n",
    "import os\n",
    "os.chdir(r\"C:\\Users\\banva\\Desktop\\ML Project\\Mayur Kumar\")\n",
    "os.getcwd()"
   ]
  },
  {
   "cell_type": "code",
   "execution_count": null,
   "metadata": {},
   "outputs": [],
   "source": [
    "# Read in the data    \n",
    "traindata=  pd.read_csv('final_data.csv',sep=',',header=0,quotechar='\"')"
   ]
  },
  {
   "cell_type": "code",
   "execution_count": null,
   "metadata": {},
   "outputs": [],
   "source": [
    "train_Target = traindata.loc[:,[\"click\"]]"
   ]
  },
  {
   "cell_type": "code",
   "execution_count": null,
   "metadata": {},
   "outputs": [],
   "source": [
    "train_Target.click=train_Target.click.astype('category',copy=False)\n",
    "cal_Target.click=val_Target.click.astype('category',copy=False)\n",
    "val_Target.click=val_Target.click.astype('category',copy=False)"
   ]
  },
  {
   "cell_type": "code",
   "execution_count": 223,
   "metadata": {},
   "outputs": [],
   "source": [
    "Target = data.loc[:,[\"click\"]]"
   ]
  },
  {
   "cell_type": "code",
   "execution_count": 224,
   "metadata": {},
   "outputs": [
    {
     "data": {
      "text/plain": [
       "click    category\n",
       "dtype: object"
      ]
     },
     "execution_count": 224,
     "metadata": {},
     "output_type": "execute_result"
    }
   ],
   "source": [
    "Target.click=Target.click.astype('category',copy=False)\n",
    "Target.dtypes"
   ]
  },
  {
   "cell_type": "code",
   "execution_count": 232,
   "metadata": {},
   "outputs": [
    {
     "data": {
      "text/plain": [
       "['C1',\n",
       " 'banner_pos',\n",
       " 'site_id',\n",
       " 'site_domain',\n",
       " 'site_category',\n",
       " 'app_id',\n",
       " 'app_domain',\n",
       " 'app_category',\n",
       " 'device_model',\n",
       " 'device_type',\n",
       " 'device_conn_type',\n",
       " 'C14',\n",
       " 'C15',\n",
       " 'C16',\n",
       " 'C17',\n",
       " 'C18',\n",
       " 'C19',\n",
       " 'C20',\n",
       " 'C21',\n",
       " 'hour',\n",
       " 'day_of_week']"
      ]
     },
     "execution_count": 232,
     "metadata": {},
     "output_type": "execute_result"
    }
   ],
   "source": [
    "vars=list(train_data)[2:24]\n",
    "vars"
   ]
  },
  {
   "cell_type": "code",
   "execution_count": 233,
   "metadata": {},
   "outputs": [],
   "source": [
    "data_x=data.loc[:,vars ]"
   ]
  },
  {
   "cell_type": "code",
   "execution_count": 234,
   "metadata": {},
   "outputs": [
    {
     "data": {
      "text/plain": [
       "['C1',\n",
       " 'banner_pos',\n",
       " 'site_id',\n",
       " 'site_domain',\n",
       " 'site_category',\n",
       " 'app_id',\n",
       " 'app_domain',\n",
       " 'app_category',\n",
       " 'device_model',\n",
       " 'device_type',\n",
       " 'device_conn_type',\n",
       " 'C14',\n",
       " 'C15',\n",
       " 'C16',\n",
       " 'C17',\n",
       " 'C18',\n",
       " 'C19',\n",
       " 'C20',\n",
       " 'C21',\n",
       " 'hour',\n",
       " 'day_of_week']"
      ]
     },
     "execution_count": 234,
     "metadata": {},
     "output_type": "execute_result"
    }
   ],
   "source": [
    "list(data_x)"
   ]
  },
  {
   "cell_type": "code",
   "execution_count": 236,
   "metadata": {},
   "outputs": [],
   "source": [
    "# loop to change each column to category type\n",
    "for col in vars:\n",
    "    data_x[col] = data_x[col].astype('category',copy=False)"
   ]
  },
  {
   "cell_type": "code",
   "execution_count": 237,
   "metadata": {},
   "outputs": [
    {
     "data": {
      "text/plain": [
       "C1                  category\n",
       "banner_pos          category\n",
       "site_id             category\n",
       "site_domain         category\n",
       "site_category       category\n",
       "app_id              category\n",
       "app_domain          category\n",
       "app_category        category\n",
       "device_model        category\n",
       "device_type         category\n",
       "device_conn_type    category\n",
       "C14                 category\n",
       "C15                 category\n",
       "C16                 category\n",
       "C17                 category\n",
       "C18                 category\n",
       "C19                 category\n",
       "C20                 category\n",
       "C21                 category\n",
       "hour                category\n",
       "day_of_week         category\n",
       "dtype: object"
      ]
     },
     "execution_count": 237,
     "metadata": {},
     "output_type": "execute_result"
    }
   ],
   "source": [
    "data_x.dtypes"
   ]
  },
  {
   "cell_type": "code",
   "execution_count": 239,
   "metadata": {},
   "outputs": [],
   "source": [
    "Index_Whole = list(np.arange(530429))"
   ]
  },
  {
   "cell_type": "code",
   "execution_count": 240,
   "metadata": {},
   "outputs": [],
   "source": [
    "from random import sample\n",
    "Index_Train =sample(list(Index_Whole), 400000)"
   ]
  },
  {
   "cell_type": "code",
   "execution_count": 241,
   "metadata": {},
   "outputs": [],
   "source": [
    "Index_Validation = list(set(Index_whole) - set(Index_Train))"
   ]
  },
  {
   "cell_type": "code",
   "execution_count": 348,
   "metadata": {},
   "outputs": [],
   "source": [
    "Train= data_x.iloc[Index_Train, :]\n",
    "Validation=data_x.iloc[Index_Validation, :]"
   ]
  },
  {
   "cell_type": "code",
   "execution_count": 349,
   "metadata": {},
   "outputs": [],
   "source": [
    "XTr= np.array(Train)\n",
    "XVal=np.array(Validation)"
   ]
  },
  {
   "cell_type": "code",
   "execution_count": 350,
   "metadata": {},
   "outputs": [
    {
     "data": {
      "text/plain": [
       "(400000, 302)"
      ]
     },
     "execution_count": 350,
     "metadata": {},
     "output_type": "execute_result"
    }
   ],
   "source": [
    "XTr.shape"
   ]
  },
  {
   "cell_type": "code",
   "execution_count": 351,
   "metadata": {},
   "outputs": [],
   "source": [
    "YTr= np.array(Target.loc[Index_Train,[\"click\"]]) \n",
    "\n",
    "YVal=np.array(Target.loc[Index_Validation,[\"click\"]])\n"
   ]
  },
  {
   "cell_type": "code",
   "execution_count": 352,
   "metadata": {},
   "outputs": [
    {
     "data": {
      "text/plain": [
       "(400000, 1)"
      ]
     },
     "execution_count": 352,
     "metadata": {},
     "output_type": "execute_result"
    }
   ],
   "source": [
    "YTr.shape"
   ]
  },
  {
   "cell_type": "code",
   "execution_count": 353,
   "metadata": {},
   "outputs": [],
   "source": [
    "BCNN = Sequential()\n",
    "\n",
    "BCNN.add(Dense(units=4,input_shape=(XTr.shape[1],),activation=\"relu\",use_bias=True))\n",
    "BCNN.add(Dense(units=4,activation=\"relu\",use_bias=True))\n",
    "BCNN.add(Dense(units=4,activation=\"relu\",use_bias=True))\n",
    "BCNN.add(Dense(units=4,activation=\"relu\",use_bias=True))\n",
    "BCNN.add(Dense(units=1,activation=\"sigmoid\",use_bias=True))\n",
    "\n",
    "BCNN.compile(loss='binary_crossentropy', optimizer=Optimizer,metrics=['binary_crossentropy'])"
   ]
  },
  {
   "cell_type": "code",
   "execution_count": 334,
   "metadata": {},
   "outputs": [],
   "source": []
  },
  {
   "cell_type": "code",
   "execution_count": null,
   "metadata": {},
   "outputs": [],
   "source": []
  },
  {
   "cell_type": "code",
   "execution_count": 354,
   "metadata": {},
   "outputs": [
    {
     "name": "stdout",
     "output_type": "stream",
     "text": [
      "Number of Epochs = 1000\n"
     ]
    },
    {
     "data": {
      "text/plain": [
       "[0.5577866,\n",
       " 0.5577969,\n",
       " 0.55778,\n",
       " 0.55777067,\n",
       " 0.55779994,\n",
       " 0.55778474,\n",
       " 0.5577822,\n",
       " 0.55777425,\n",
       " 0.55778444]"
      ]
     },
     "execution_count": 354,
     "metadata": {},
     "output_type": "execute_result"
    }
   ],
   "source": [
    "#%% Fit NN Model\n",
    "\n",
    "FitHist = BCNN.fit(XTr,YTr,epochs=NEpochs,batch_size=BatchSize,verbose=0)\n",
    "print(\"Number of Epochs = \"+str(len(FitHist.history['binary_crossentropy'])))\n",
    "FitHist.history['binary_crossentropy'][-1]\n",
    "FitHist.history['binary_crossentropy'][-10:-1]"
   ]
  },
  {
   "cell_type": "code",
   "execution_count": 356,
   "metadata": {},
   "outputs": [],
   "source": [
    "#%% Make Predictions\n",
    "YHatTr = BCNN.predict(XTr,batch_size=XTr.shape[0]) # Note: Not scaled, so not necessary to undo.\n",
    "YHatTr = YHatTr.reshape((YHatTr.shape[0]),)\n",
    "\n",
    "YHatVal = BCNN.predict(XVal,batch_size=XVal.shape[0])\n",
    "YHatVal = YHatVal.reshape((YHatVal.shape[0]),)"
   ]
  },
  {
   "cell_type": "code",
   "execution_count": 363,
   "metadata": {},
   "outputs": [
    {
     "data": {
      "text/plain": [
       "array([0.23953575, 0.23953575, 0.23953575, ..., 0.23953575, 0.23953575,\n",
       "       0.23953575], dtype=float32)"
      ]
     },
     "execution_count": 363,
     "metadata": {},
     "output_type": "execute_result"
    }
   ],
   "source": [
    "YHatTr"
   ]
  },
  {
   "cell_type": "code",
   "execution_count": null,
   "metadata": {},
   "outputs": [],
   "source": []
  }
 ],
 "metadata": {
  "kernelspec": {
   "display_name": "Python 3",
   "language": "python",
   "name": "python3"
  },
  "language_info": {
   "codemirror_mode": {
    "name": "ipython",
    "version": 3
   },
   "file_extension": ".py",
   "mimetype": "text/x-python",
   "name": "python",
   "nbconvert_exporter": "python",
   "pygments_lexer": "ipython3",
   "version": "3.7.3"
  }
 },
 "nbformat": 4,
 "nbformat_minor": 2
}
